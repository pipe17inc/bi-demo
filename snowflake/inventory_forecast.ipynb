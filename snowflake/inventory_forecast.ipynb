{
 "metadata": {
  "kernelspec": {
   "display_name": "Streamlit Notebook",
   "name": "streamlit"
  }
 },
 "nbformat_minor": 5,
 "nbformat": 4,
 "cells": [
  {
   "cell_type": "code",
   "id": "3775908f-ca36-4846-8f38-5adca39217f2",
   "metadata": {
    "language": "python",
    "name": "cell1",
    "collapsed": false
   },
   "source": "# Import python packages\nimport streamlit as st\nimport pandas as pd\nimport altair as alt\n\n# We can also use Snowpark for our analyses!\nfrom snowflake.snowpark.context import get_active_session\nsession = get_active_session()",
   "execution_count": null,
   "outputs": []
  },
  {
   "cell_type": "code",
   "id": "8d50cbf4-0c8d-4950-86cb-114990437ac9",
   "metadata": {
    "language": "sql",
    "name": "cell2",
    "collapsed": false
   },
   "source": "SELECT o.orderid, o.extorderid, ol.sku, ol.quantity, o.extordercreatedat FROM PIPE17.PIPE17_RAW.ORDERS o JOIN PIPE17.PIPE17_RAW.ORDERS_LINES ol ON o.ORDERID = ol.ORDERID",
   "execution_count": null,
   "outputs": []
  },
  {
   "cell_type": "code",
   "id": "c695373e-ac74-4b62-a1f1-08206cbd5c81",
   "metadata": {
    "language": "python",
    "name": "cell3",
    "collapsed": false
   },
   "source": "# Then, we can use the python name to turn cell2 into a Pandas dataframe\ndf = cell2.to_pandas()\n\n# Convert extordercreatedat to datetime\ndf['EXTORDERCREATEDAT'] = pd.to_datetime(df['EXTORDERCREATEDAT'])\n\n# Extract date from datetime\ndf['date'] = df['EXTORDERCREATEDAT'].dt.date\n\n# Group by date and SKU to get total quantity per day per SKU\ndaily_sales = df.groupby(['date', 'SKU'])['QUANTITY'].sum().reset_index()\n\n# Streamlit app\nst.title('Top N SKUs Sales per Day')\n\n# How many SKUs to check for top\nN = 10\n\n# Identify top N SKUs\ntop_skus = daily_sales.groupby('SKU')['QUANTITY'].sum().nlargest(N).index\n\n# Separate top N SKUs and 'Others'\ndaily_sales['SKU'] = daily_sales['SKU'].where(daily_sales['SKU'].isin(top_skus), 'Others')\n\n# Aggregate the 'Others'\ndaily_sales_agg = daily_sales.groupby(['date', 'SKU'])['QUANTITY'].sum().reset_index()\n\n# Plotting\nchart = alt.Chart(daily_sales_agg).mark_bar().encode(\n    x='date:T',\n    y='QUANTITY:Q',\n    color='SKU:N',\n    tooltip=['date:T', 'SKU:N', 'QUANTITY:Q']\n).properties(\n    width=800,\n    height=400\n)\n\nst.altair_chart(chart, use_container_width=True)\n\n# Initial inventory level\ninitial_inventory = 1000\n\n# Step 1: Calculate average daily sales for each SKU\naverage_daily_sales = daily_sales_agg.groupby('SKU')['QUANTITY'].mean().reset_index()\naverage_daily_sales.columns = ['SKU', 'average_daily_sales']\n\n# Step 2: Estimate days to deplete inventory\naverage_daily_sales['days_to_deplete'] = initial_inventory / average_daily_sales['average_daily_sales']\n\n# Filter for top SKUs\ninventory_forecast = average_daily_sales[average_daily_sales['SKU'].isin(top_skus)].reset_index(drop=True)\n\n# Display the forecast table\nst.subheader('Inventory Depletion Forecast for Top SKUs')\nst.write(inventory_forecast)",
   "execution_count": null,
   "outputs": []
  }
 ]
}