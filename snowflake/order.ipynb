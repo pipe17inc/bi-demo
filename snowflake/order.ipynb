{
 "cells": [
  {
   "cell_type": "code",
   "execution_count": null,
   "id": "3775908f-ca36-4846-8f38-5adca39217f2",
   "metadata": {
    "collapsed": false,
    "language": "python",
    "name": "cell1"
   },
   "outputs": [],
   "source": [
    "# Import python packages\n",
    "import streamlit as st\n",
    "import pandas as pd\n",
    "import altair as alt\n",
    "\n",
    "# We can also use Snowpark for our analyses!\n",
    "from snowflake.snowpark.context import get_active_session\n",
    "session = get_active_session()\n"
   ]
  },
  {
   "cell_type": "code",
   "execution_count": null,
   "id": "8d50cbf4-0c8d-4950-86cb-114990437ac9",
   "metadata": {
    "collapsed": false,
    "language": "sql",
    "name": "cell2"
   },
   "outputs": [],
   "source": [
    "// Select the raw orders and grab the current status and when the order was created\n",
    "SELECT status, extordercreatedat, totalprice from PIPE17.PIPE17_RAW.ORDERS where extordercreatedat >= DATEADD(day, -30, CURRENT_DATE) order by extordercreatedat desc"
   ]
  },
  {
   "cell_type": "code",
   "execution_count": null,
   "id": "c695373e-ac74-4b62-a1f1-08206cbd5c81",
   "metadata": {
    "collapsed": false,
    "language": "python",
    "name": "cell3"
   },
   "outputs": [],
   "source": [
    "# Then, we can use the python name to turn cell2 into a Pandas dataframe\n",
    "df = cell2.to_pandas()\n",
    "\n",
    "# Convert extordercreatedat to datetime\n",
    "df['EXTORDERCREATEDAT'] = pd.to_datetime(df['EXTORDERCREATEDAT'])\n",
    "\n",
    "# Group by every 3 days and status, then count the occurrences\n",
    "grouped_df = df.groupby([pd.Grouper(key='EXTORDERCREATEDAT', freq='3D'), 'STATUS']).size().reset_index(name='count')\n",
    "\n",
    "\n",
    "# Create a bar plot\n",
    "st.title(\"Order Aging Report\")\n",
    "\n",
    "# Create a bar chart using Altair\n",
    "chart = alt.Chart(grouped_df).mark_bar(size=20).encode(\n",
    "    x='EXTORDERCREATEDAT:T',\n",
    "    y='count:Q',\n",
    "    color='STATUS:N',\n",
    "    tooltip=['EXTORDERCREATEDAT', 'STATUS', 'count']\n",
    ").properties(\n",
    "    title='Status Count Per 3 Days',\n",
    "    width=800,\n",
    "    height=400\n",
    ")\n",
    "\n",
    "# Plot using st.altair_chart\n",
    "st.altair_chart(chart, use_container_width=True)\n",
    "\n",
    "\n",
    "\n"
   ]
  },
  {
   "cell_type": "code",
   "execution_count": null,
   "id": "03ebd377-31b5-413e-9064-de79c3ffc22f",
   "metadata": {
    "collapsed": false,
    "language": "python",
    "name": "cell4"
   },
   "outputs": [],
   "source": [
    "# Then, we can use the python name to turn cell2 into a Pandas dataframe\n",
    "df = cell2.to_pandas()\n",
    "\n",
    "# Convert extordercreatedat to datetime\n",
    "df['EXTORDERCREATEDAT'] = pd.to_datetime(df['EXTORDERCREATEDAT'])\n",
    "\n",
    "# Group by 3-day periods and sum the total revenue\n",
    "grouped_df = df.groupby(pd.Grouper(key='EXTORDERCREATEDAT', freq='3D')).agg({'TOTALPRICE': 'sum'}).reset_index()\n",
    "\n",
    "\n",
    "# Create a bar plot\n",
    "st.title(\"Revenue Report\")\n",
    "\n",
    "chart = alt.Chart(grouped_df).mark_bar(size=20).encode(  # Adjust the size parameter to control bar width\n",
    "    x=alt.X('EXTORDERCREATEDAT:T', title='Date'),\n",
    "    y=alt.Y('TOTALPRICE:Q', title='Total Revenue'),\n",
    "    tooltip=['EXTORDERCREATEDAT', 'TOTALPRICE']\n",
    ").properties(\n",
    "    title='Total Revenue Per 3 Days',\n",
    "    width=800,\n",
    "    height=400\n",
    ").configure_axis(\n",
    "    labelFontSize=12,\n",
    "    titleFontSize=14\n",
    ").configure_title(\n",
    "    fontSize=16\n",
    ")\n",
    "\n",
    "# Display the chart in Streamlit\n",
    "st.title(\"Total Revenue Per 3 Days\")\n",
    "st.altair_chart(chart, use_container_width=True)"
   ]
  }
 ],
 "metadata": {
  "kernelspec": {
   "display_name": "Streamlit Notebook",
   "name": "streamlit"
  }
 },
 "nbformat": 4,
 "nbformat_minor": 5
}
